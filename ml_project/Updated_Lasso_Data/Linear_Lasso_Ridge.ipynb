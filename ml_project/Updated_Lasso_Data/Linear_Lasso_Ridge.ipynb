{
 "cells": [
  {
   "cell_type": "markdown",
   "metadata": {},
   "source": [
    "## Lasso Regression , Linear Regression"
   ]
  },
  {
   "cell_type": "code",
   "execution_count": 127,
   "metadata": {},
   "outputs": [],
   "source": [
    "import os\n",
    "from scipy import ndimage, misc\n",
    "from matplotlib import pyplot as plt\n",
    "import numpy as np\n",
    "import imageio\n",
    "%matplotlib inline\n",
    "import pandas as pd\n",
    "from pathlib import Path\n",
    "from sklearn.decomposition import PCA as sklearnPCA\n",
    "from sklearn.linear_model import Lasso\n",
    "from sklearn.linear_model import LinearRegression\n",
    "from sklearn import preprocessing\n",
    "from sklearn import svm\n",
    "from sklearn.model_selection import train_test_split\n",
    "from sklearn.model_selection import cross_val_score\n",
    "import pandas as pd\n",
    "import numpy as np\n",
    "import matplotlib.pyplot as plt\n",
    "%matplotlib inline\n"
   ]
  },
  {
   "cell_type": "markdown",
   "metadata": {},
   "source": [
    "## Load and split Dataset "
   ]
  },
  {
   "cell_type": "code",
   "execution_count": 128,
   "metadata": {},
   "outputs": [],
   "source": [
    "# get excel file\n",
    "current_dir = Path.cwd()\n",
    "file = pd.ExcelFile(current_dir / 'County_Training_Test_Normalized_2.xlsx')\n",
    "\n",
    "# convert to dataframe\n",
    "df = file.parse(\"Training Data\")\n",
    "\n",
    "# get dataset\n",
    "dataset = df.to_numpy()\n",
    "# print(dataset)\n",
    "\n",
    "# get features for datapoints\n",
    "X = np.delete(dataset, [0,1,7,8], axis=1)\n",
    "X = X.astype(float)\n",
    "num_features = X.shape[1]\n",
    "# print(num_features)\n",
    "# print(X)\n",
    "\n",
    "# get labels\n",
    "# 7 corresponds to voter turnout, 8 corresponds to voter turnout in 0,1,2 buckets \n",
    "Y = dataset[:,[7]]\n",
    "Y = Y.astype(float)\n",
    "Y = Y.ravel()\n",
    "# print(Y)\n",
    "Y_bucket = dataset[:,[8]]\n",
    "Y_bucket = Y_bucket.astype(float)\n",
    "Y_bucket = Y_bucket.ravel()\n",
    "\n",
    "# get counties\n",
    "counties = dataset[:,[1]]\n",
    "\n",
    "# get feature names\n",
    "new_df = df.drop(\"County\", axis=1)\n",
    "new_df = new_df.drop(\"States\", axis=1)\n",
    "new_df = new_df.drop(\"Percentage Voter Turnout\", axis=1)\n",
    "new_df = new_df.drop(\"Labels\", axis=1)\n",
    "feature_names = list(new_df.columns.values)\n",
    "\n",
    "# print(feature_names)\n",
    "\n",
    "scaler = preprocessing.StandardScaler()\n",
    "scaler.fit(X)\n",
    "X = scaler.transform(X) \n",
    "# print(Y)"
   ]
  },
  {
   "cell_type": "code",
   "execution_count": 129,
   "metadata": {},
   "outputs": [],
   "source": [
    "# print(X.shape)\n",
    "X, X_test, Y, Y_test = train_test_split(X, Y, test_size=0.01, shuffle = True)\n",
    "# X_train.shape"
   ]
  },
  {
   "cell_type": "markdown",
   "metadata": {},
   "source": [
    "plt.scatter(features[:, 0], features[:, 1], c=Y, s=50, cmap='autumn')\n",
    "plot_svc_decision_function(clf);\n",
    "plt.scatter(feat_test[:, 0], feat_test[:, 1], c=Y_test, s=50)"
   ]
  },
  {
   "cell_type": "code",
   "execution_count": 130,
   "metadata": {},
   "outputs": [],
   "source": [
    "import pandas as pd\n",
    "import numpy as np\n",
    "import matplotlib.pyplot as plt\n",
    "\n",
    "%matplotlib inline\n"
   ]
  },
  {
   "cell_type": "markdown",
   "metadata": {},
   "source": [
    "# Lasso "
   ]
  },
  {
   "cell_type": "code",
   "execution_count": 131,
   "metadata": {},
   "outputs": [
    {
     "data": {
      "text/plain": [
       "GridSearchCV(cv=5, error_score='raise-deprecating',\n",
       "             estimator=Lasso(alpha=1.0, copy_X=True, fit_intercept=True,\n",
       "                             max_iter=1000, normalize=False, positive=False,\n",
       "                             precompute=False, random_state=None,\n",
       "                             selection='cyclic', tol=0.0001, warm_start=False),\n",
       "             iid='warn', n_jobs=None,\n",
       "             param_grid={'alpha': [1e-15, 1e-10, 1e-08, 0.0001, 0.001, 0.01,\n",
       "                                   0.1, 0.5, 1, 5, 10, 20]},\n",
       "             pre_dispatch='2*n_jobs', refit=True, return_train_score=False,\n",
       "             scoring='neg_mean_squared_error', verbose=0)"
      ]
     },
     "execution_count": 131,
     "metadata": {},
     "output_type": "execute_result"
    }
   ],
   "source": [
    "from sklearn.linear_model import Lasso\n",
    "from sklearn.model_selection import learning_curve,GridSearchCV\n",
    "\n",
    "lasso = Lasso()\n",
    "\n",
    "parameters = {'alpha': [1e-15, 1e-10, 1e-8, 1e-4, 1e-3,1e-2,1e-1, 0.5, 1, 5, 10, 20]}\n",
    "\n",
    "lasso_regressor = GridSearchCV(lasso, parameters, scoring='neg_mean_squared_error', cv = 5)\n",
    "\n",
    "lasso_regressor.fit(X, Y)"
   ]
  },
  {
   "cell_type": "code",
   "execution_count": 132,
   "metadata": {},
   "outputs": [
    {
     "data": {
      "text/plain": [
       "{'alpha': 0.0001}"
      ]
     },
     "execution_count": 132,
     "metadata": {},
     "output_type": "execute_result"
    }
   ],
   "source": [
    "lasso_regressor.best_params_"
   ]
  },
  {
   "cell_type": "code",
   "execution_count": 133,
   "metadata": {},
   "outputs": [
    {
     "data": {
      "text/plain": [
       "-0.00843741863738441"
      ]
     },
     "execution_count": 133,
     "metadata": {},
     "output_type": "execute_result"
    }
   ],
   "source": [
    "lasso_regressor.best_score_"
   ]
  },
  {
   "cell_type": "code",
   "execution_count": 134,
   "metadata": {},
   "outputs": [
    {
     "name": "stdout",
     "output_type": "stream",
     "text": [
      "training score: 0.01418841818201566\n",
      "test score:  -0.0006256370906636555\n",
      "number of features used:  5\n",
      "training score for alpha=0.001: 0.01418841818201566\n",
      "number of features used: for alpha =0.001: 5\n",
      "training score for alpha=0.0001: 0.014741296015963301\n",
      "number of features used: for alpha =0.0001: 5\n",
      "LR training score: 0.014746881224901422\n"
     ]
    },
    {
     "data": {
      "image/png": "[encoded data removed]",
      "text/plain": [
       "<Figure size 432x288 with 1 Axes>"
      ]
     },
     "metadata": {
      "needs_background": "light"
     },
     "output_type": "display_data"
    },
    {
     "data": {
      "image/png": "[encoded data removed]",
      "text/plain": [
       "<Figure size 432x288 with 1 Axes>"
      ]
     },
     "metadata": {
      "needs_background": "light"
     },
     "output_type": "display_data"
    }
   ],
   "source": [
    "lasso = Lasso(alpha = 0.001, max_iter=10e5)\n",
    "lasso.fit(X,Y)\n",
    "\n",
    "Y_pred = lasso.predict(X_test)\n",
    "\n",
    "train_score=lasso.score(X,Y)\n",
    "test_score=lasso.score(X_test,Y_test)\n",
    "\n",
    "coeff_used = np.sum(lasso.coef_!=0)\n",
    "print(\"training score:\", train_score) \n",
    "print(\"test score: \", test_score)\n",
    "print(\"number of features used: \", coeff_used)\n",
    "\n",
    "lasso001 = Lasso(alpha=0.01, max_iter=10e5)\n",
    "lasso001.fit(X,Y)\n",
    "train_score001=lasso001.score(X,Y)\n",
    "\n",
    "coeff_used001 = np.sum(lasso001.coef_!=0)\n",
    "\n",
    "lasso0001 = Lasso(alpha=0.001, max_iter=10e5)\n",
    "lasso0001.fit(X,Y)\n",
    "train_score0001=lasso0001.score(X,Y)\n",
    "train_score0001=lasso0001.score(X,Y)\n",
    "coeff_used0001 = np.sum(lasso0001.coef_!=0)\n",
    "print(\"training score for alpha=0.001:\", train_score0001)\n",
    "print(\"number of features used: for alpha =0.001:\", coeff_used0001)\n",
    "\n",
    "lasso00001 = Lasso(alpha=0.0001, max_iter=10e5)\n",
    "lasso00001.fit(X,Y)\n",
    "train_score00001=lasso00001.score(X,Y)\n",
    "coeff_used00001 = np.sum(lasso00001.coef_!=0)\n",
    "print(\"training score for alpha=0.0001:\", train_score00001)\n",
    "print(\"number of features used: for alpha =0.0001:\", coeff_used00001)\n",
    "\n",
    "########## Linear Regression##############\n",
    "lr = LinearRegression()\n",
    "lr.fit(X,Y)\n",
    "lr_train_score=lr.score(X,Y)\n",
    "print(\"LR training score:\", lr_train_score) \n",
    "\n",
    "\n",
    "plt.plot(lasso001.coef_,alpha=0.5,linestyle='none',marker='d',markersize=6,color='blue',label=r'Lasso; $\\alpha = 0.01$') # alpha here is for transparency\n",
    "plt.plot(lasso0001.coef_,alpha=0.5,linestyle='none',marker='d',markersize=6,color='green',label=r'Lasso; $\\alpha = 0.001$') # alpha here is for transparency\n",
    "plt.plot(lasso00001.coef_,alpha=0.5,linestyle='none',marker='d',markersize=6,color='black',label=r'Lasso; $\\alpha = 0.0001$') # alpha here is for transparency\n",
    "\n",
    "plt.xlabel('Coefficient Index',fontsize=16)\n",
    "plt.ylabel('Coefficient Magnitude',fontsize=16)\n",
    "\n",
    "\n",
    "plt.legend(fontsize=10,loc=4)\n",
    "plt.show()\n",
    "plt.plot(lasso001.coef_,alpha=0.5,linestyle='none',marker='d',markersize=6,color='blue',label=r'Lasso; $\\alpha = 0.01$') # alpha here is for transparency\n",
    "plt.plot(lasso0001.coef_,alpha=0.8,linestyle='none',marker='v',markersize=6,color='black',label=r'Lasso; $\\alpha = 0.001$') # alpha here is for transparency\n",
    "plt.plot(lasso00001.coef_,alpha=0.8,linestyle='none',marker='v',markersize=6,color='red',label=r'Lasso; $\\alpha = 0.00001$') # alpha here is for transparency\n",
    "plt.plot(lr.coef_,alpha=0.7,linestyle='none',marker='o',markersize=5,color='green',label='Linear Regression',zorder=2)\n",
    "\n",
    "plt.xlabel('Coefficient Index',fontsize=16)\n",
    "plt.ylabel('Coefficient Magnitude',fontsize=16)\n",
    "plt.legend(fontsize=8,loc=4)\n",
    "plt.tight_layout()\n",
    "plt.show()\n"
   ]
  },
  {
   "cell_type": "code",
   "execution_count": 135,
   "metadata": {},
   "outputs": [
    {
     "name": "stdout",
     "output_type": "stream",
     "text": [
      "(27, 5)\n"
     ]
    },
    {
     "data": {
      "image/png": "[encoded data removed]",
      "text/plain": [
       "<Figure size 432x288 with 1 Axes>"
      ]
     },
     "metadata": {},
     "output_type": "display_data"
    }
   ],
   "source": [
    "from sklearn.metrics import mean_squared_error\n",
    "\n",
    "mean_squared_error(Y_test, Y_pred)\n",
    "print(X_test.shape)\n",
    "x_row =[]\n",
    "for i in range(0, X_test.shape[0]):\n",
    "    x_row.append(i)\n",
    "    \n",
    "    \n",
    "plt.scatter(x_row, Y_test,  color='black', label = \"Actual\")\n",
    "plt.plot(x_row, Y_pred, color='blue', linewidth=3, label = \"Lasso\")\n",
    "plt.legend()\n",
    "plt.xlabel('Test Data')\n",
    "plt.ylabel('Voter Turnout')\n",
    "\n",
    "plt.xticks(())\n",
    "plt.yticks(())\n",
    "\n",
    "plt.show()\n"
   ]
  },
  {
   "cell_type": "markdown",
   "metadata": {},
   "source": [
    "### Linear regression\n"
   ]
  },
  {
   "cell_type": "code",
   "execution_count": 136,
   "metadata": {},
   "outputs": [],
   "source": [
    "#encode labels\n",
    "le = preprocessing.LabelEncoder()\n",
    "encoded_Y = Y#le.fit_transform(Y)\n",
    "encoded_Y_test = Y_test#le.fit_transform(Y_test)\n"
   ]
  },
  {
   "cell_type": "code",
   "execution_count": 137,
   "metadata": {},
   "outputs": [
    {
     "name": "stdout",
     "output_type": "stream",
     "text": [
      "LR training score: 0.014746881224901422\n",
      "LR testing score: 0.000984805211150186\n"
     ]
    }
   ],
   "source": [
    "lr = LinearRegression()\n",
    "lr.fit(X,encoded_Y)\n",
    "Y_pred = lr.predict(X_test)\n",
    "\n",
    "\n",
    "lr_train_score=lr.score(X,encoded_Y)\n",
    "print(\"LR training score:\", lr_train_score)\n",
    "\n",
    "lr_test_score=lr.score(X_test,encoded_Y_test)\n",
    "print(\"LR testing score:\", lr_test_score)\n",
    "\n"
   ]
  },
  {
   "cell_type": "code",
   "execution_count": 138,
   "metadata": {},
   "outputs": [
    {
     "name": "stdout",
     "output_type": "stream",
     "text": [
      "(27, 5)\n"
     ]
    },
    {
     "data": {
      "image/png": "[encoded data removed]",
      "text/plain": [
       "<Figure size 432x288 with 1 Axes>"
      ]
     },
     "metadata": {},
     "output_type": "display_data"
    }
   ],
   "source": [
    "from sklearn.metrics import mean_squared_error\n",
    "\n",
    "mean_squared_error(Y_test, Y_pred)\n",
    "print(X_test.shape)\n",
    "x_row =[]\n",
    "for i in range(0, X_test.shape[0]):\n",
    "    x_row.append(i)\n",
    "    \n",
    "    \n",
    "plt.scatter(x_row, Y_test,  color='black', label = \"Actual\")\n",
    "plt.plot(x_row, Y_pred, color='blue', linewidth=3, label = \"Linear\")\n",
    "plt.legend()\n",
    "plt.xlabel('Test Data')\n",
    "plt.ylabel('Voter Turnout')\n",
    "\n",
    "plt.xticks(())\n",
    "plt.yticks(())\n",
    "\n",
    "plt.show()\n"
   ]
  }
 ],
 "metadata": {
  "kernelspec": {
   "display_name": "Python 3",
   "language": "python",
   "name": "python3"
  },
  "language_info": {
   "codemirror_mode": {
    "name": "ipython",
    "version": 3
   },
   "file_extension": ".py",
   "mimetype": "text/x-python",
   "name": "python",
   "nbconvert_exporter": "python",
   "pygments_lexer": "ipython3",
   "version": "3.7.4"
  }
 },
 "nbformat": 4,
 "nbformat_minor": 4
}
