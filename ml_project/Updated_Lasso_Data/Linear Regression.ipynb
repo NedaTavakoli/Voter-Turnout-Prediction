{
 "cells": [
  {
   "cell_type": "code",
   "execution_count": 20,
   "metadata": {},
   "outputs": [],
   "source": [
    "import os\n",
    "from scipy import ndimage, misc\n",
    "from matplotlib import pyplot as plt\n",
    "import numpy as np\n",
    "import imageio\n",
    "%matplotlib inline\n",
    "import pandas as pd\n",
    "from pathlib import Path\n",
    "from sklearn.decomposition import PCA as sklearnPCA\n",
    "from sklearn.linear_model import Lasso\n",
    "from sklearn.linear_model import LinearRegression\n",
    "from sklearn import preprocessing\n",
    "from sklearn import svm\n",
    "from sklearn.model_selection import train_test_split"
   ]
  },
  {
   "cell_type": "code",
   "execution_count": 21,
   "metadata": {},
   "outputs": [],
   "source": [
    "# get excel file\n",
    "current_dir = Path.cwd()\n",
    "file = pd.ExcelFile(current_dir / 'County_Training_Test_Normalized_2.xlsx')\n",
    "\n",
    "# convert to dataframe\n",
    "df = file.parse(\"Training Data\")\n",
    "\n",
    "# get dataset\n",
    "dataset = df.to_numpy()\n",
    "# print(dataset)\n",
    "\n",
    "# get features for datapoints\n",
    "X = np.delete(dataset, [0,1,7,8], axis=1)\n",
    "X = X.astype(float)\n",
    "num_features = X.shape[1]\n",
    "# print(num_features)\n",
    "# print(X)\n",
    "\n",
    "# get labels\n",
    "# 7 corresponds to voter turnout, 8 corresponds to voter turnout in 0,1,2 buckets \n",
    "Y = dataset[:,[7]]\n",
    "Y = Y.astype(float)\n",
    "Y = Y.ravel()\n",
    "# print(Y)\n",
    "Y_bucket = dataset[:,[8]]\n",
    "Y_bucket = Y_bucket.astype(float)\n",
    "Y_bucket = Y_bucket.ravel()\n",
    "\n",
    "# get counties\n",
    "counties = dataset[:,[1]]\n",
    "\n",
    "# get feature names\n",
    "new_df = df.drop(\"County\", axis=1)\n",
    "new_df = new_df.drop(\"States\", axis=1)\n",
    "new_df = new_df.drop(\"Percentage Voter Turnout\", axis=1)\n",
    "new_df = new_df.drop(\"Labels\", axis=1)\n",
    "feature_names = list(new_df.columns.values)\n",
    "\n",
    "# print(feature_names)\n",
    "\n",
    "scaler = preprocessing.StandardScaler()\n",
    "scaler.fit(X)\n",
    "X = scaler.transform(X) + 2\n",
    "# print(Y)"
   ]
  },
  {
   "cell_type": "code",
   "execution_count": 22,
   "metadata": {},
   "outputs": [],
   "source": [
    "#test train split\n",
    "X, X_test, Y, Y_test = train_test_split(X, Y, test_size=0.10, random_state=42)"
   ]
  },
  {
   "cell_type": "code",
   "execution_count": 23,
   "metadata": {},
   "outputs": [],
   "source": [
    "# perform PCA to reduce to 2 dimensions\n",
    "pca = sklearnPCA(n_components=2) #2-dimensional PCA\n",
    "features = pca.fit_transform(X)\n",
    "feat_test = pca.transform(X_test)"
   ]
  },
  {
   "cell_type": "code",
   "execution_count": 24,
   "metadata": {},
   "outputs": [],
   "source": [
    "#encode labels\n",
    "le = preprocessing.LabelEncoder()\n",
    "encoded_Y = le.fit_transform(Y)"
   ]
  },
  {
   "cell_type": "code",
   "execution_count": 25,
   "metadata": {},
   "outputs": [
    {
     "data": {
      "image/png": "[encoded data removed]",
      "text/plain": [
       "<Figure size 432x288 with 1 Axes>"
      ]
     },
     "metadata": {},
     "output_type": "display_data"
    }
   ],
   "source": [
    "from sklearn.feature_selection import SelectKBest\n",
    "from sklearn.feature_selection import f_regression\n",
    "\n",
    "# convert Y to classes based on threshold\n",
    "threshold = np.mean(Y)\n",
    "labels = Y.copy()\n",
    "labels[labels < threshold] = 0 # low turnout\n",
    "labels[labels >= threshold] = 1 # high turnout\n",
    "\n",
    "# Visualize feature importance\n",
    "K = 3\n",
    "explode = np.zeros(K)\n",
    "explode[:K] = 0.1\n",
    "model = SelectKBest(f_regression, k=K)\n",
    "model.fit_transform(X, labels)\n",
    "indices = np.argsort(model.scores_)[::-1]\n",
    "top_features = []\n",
    "for i in indices:\n",
    "    top_features.append(feature_names[i])\n",
    "\n",
    "fig = plt.figure()\n",
    "fig.clf()\n",
    "ax = fig.add_subplot(111)\n",
    "plt.title(\"Top 5 Election Policies that impact Voter Turnout\")\n",
    "plt.pie(model.scores_[indices[range(K)]], labels=top_features[:K], autopct='%1.1f%%', shadow=True, startangle=90, explode=explode)\n",
    "plt.show()"
   ]
  },
  {
   "cell_type": "code",
   "execution_count": 26,
   "metadata": {},
   "outputs": [
    {
     "name": "stdout",
     "output_type": "stream",
     "text": [
      "LR training score: 0.019023311355942374\n"
     ]
    }
   ],
   "source": [
    "lr = LinearRegression()\n",
    "lr.fit(X,encoded_Y)\n",
    "\n",
    "\n",
    "lr_train_score=lr.score(X,encoded_Y)\n",
    "print(\"LR training score:\", lr_train_score)\n",
    "\n",
    "\n"
   ]
  },
  {
   "cell_type": "code",
   "execution_count": 19,
   "metadata": {},
   "outputs": [
    {
     "name": "stdout",
     "output_type": "stream",
     "text": [
      "[0.58300904 0.57163775 0.57160804 0.57185048 0.532324   0.55559347\n",
      " 0.56920736 0.54752894 0.55942237 0.56716203]\n",
      "[0.51810748 0.53945612 0.77805884 0.53556428 0.76601164 0.46124107\n",
      " 0.66914382 0.42657237 0.6025116  0.44190558]\n"
     ]
    },
    {
     "data": {
      "text/plain": [
       "array([ 0.00186125, -0.00611127, -0.00791997, -0.00617477, -0.00274966])"
      ]
     },
     "execution_count": 19,
     "metadata": {},
     "output_type": "execute_result"
    }
   ],
   "source": [
    "lr = LinearRegression()\n",
    "lr.fit(X,Y)\n",
    "print(lr.predict(X_test)[:10])\n",
    "print(Y_test[:10])\n",
    "lr.coef_"
   ]
  }
 ],
 "metadata": {
  "kernelspec": {
   "display_name": "Python 3",
   "language": "python",
   "name": "python3"
  },
  "language_info": {
   "codemirror_mode": {
    "name": "ipython",
    "version": 3
   },
   "file_extension": ".py",
   "mimetype": "text/x-python",
   "name": "python",
   "nbconvert_exporter": "python",
   "pygments_lexer": "ipython3",
   "version": "3.6.5"
  }
 },
 "nbformat": 4,
 "nbformat_minor": 4
}
