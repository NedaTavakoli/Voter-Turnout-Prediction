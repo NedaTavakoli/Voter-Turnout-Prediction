{
 "cells": [
  {
   "cell_type": "markdown",
   "metadata": {},
   "source": [
    "# Unsupervised Learning\n",
    "\n",
    "### Goal: Study the impact of state election policy on voter turnout"
   ]
  },
  {
   "cell_type": "markdown",
   "metadata": {},
   "source": [
    "Initialization"
   ]
  },
  {
   "cell_type": "code",
   "execution_count": 1,
   "metadata": {},
   "outputs": [],
   "source": [
    "import os\n",
    "from scipy import ndimage, misc\n",
    "from matplotlib import pyplot as plt\n",
    "import numpy as np\n",
    "import imageio\n",
    "%matplotlib inline\n",
    "import pandas as pd\n",
    "from pathlib import Path"
   ]
  },
  {
   "cell_type": "code",
   "execution_count": 5,
   "metadata": {},
   "outputs": [
    {
     "name": "stdout",
     "output_type": "stream",
     "text": [
      "Collecting plotly\n",
      "\u001b[?25l  Downloading https://files.pythonhosted.org/packages/e3/67/eb2b2be7a63a66548abea92447fc04d9abf363520f1af6145c5f033cd1b3/plotly-4.3.0-py2.py3-none-any.whl (7.3MB)\n",
      "\u001b[K     |████████████████████████████████| 7.3MB 737kB/s eta 0:00:01\n",
      "\u001b[?25hCollecting retrying>=1.3.3\n",
      "  Downloading https://files.pythonhosted.org/packages/44/ef/beae4b4ef80902f22e3af073397f079c96969c69b2c7d52a57ea9ae61c9d/retrying-1.3.3.tar.gz\n",
      "Requirement already satisfied: six in /Users/nedatavakoli/environments/new_p3_env/lib/python3.7/site-packages (from plotly) (1.12.0)\n",
      "Building wheels for collected packages: retrying\n",
      "  Building wheel for retrying (setup.py) ... \u001b[?25ldone\n",
      "\u001b[?25h  Created wheel for retrying: filename=retrying-1.3.3-cp37-none-any.whl size=11429 sha256=28b7427a2682f7a8de6f484ecd410f4f570d47055a3f4c4c0f653cd74f4e6b61\n",
      "  Stored in directory: /Users/nedatavakoli/Library/Caches/pip/wheels/d7/a9/33/acc7b709e2a35caa7d4cae442f6fe6fbf2c43f80823d46460c\n",
      "Successfully built retrying\n",
      "Installing collected packages: retrying, plotly\n",
      "Successfully installed plotly-4.3.0 retrying-1.3.3\n",
      "\u001b[33mWARNING: You are using pip version 19.3; however, version 19.3.1 is available.\n",
      "You should consider upgrading via the 'pip install --upgrade pip' command.\u001b[0m\n",
      "Note: you may need to restart the kernel to use updated packages.\n"
     ]
    }
   ],
   "source": [
    "pip install plotly"
   ]
  },
  {
   "cell_type": "markdown",
   "metadata": {},
   "source": [
    "### Dataset"
   ]
  },
  {
   "cell_type": "code",
   "execution_count": 6,
   "metadata": {},
   "outputs": [],
   "source": [
    "from sklearn.preprocessing import Normalizer\n",
    "\n",
    "# get excel file\n",
    "current_dir = Path.cwd()\n",
    "file = pd.ExcelFile(current_dir / 'dataset.xlsx')\n",
    "\n",
    "# convert to dataframe\n",
    "df = file.parse(\"Sheet4\")\n",
    "\n",
    "# get dataset\n",
    "dataset = df.to_numpy()\n",
    "data = np.delete(dataset, [0,13], axis=1)\n",
    "data = data.astype(float)\n",
    "\n",
    "# normalize dataset\n",
    "norm = Normalizer().fit(data)\n",
    "X = norm.transform(data)\n",
    "num_features = X.shape[1]\n",
    "\n",
    "# get labels\n",
    "Y = dataset[:,[13]]\n",
    "Y = Y.astype(float)\n",
    "\n",
    "# get states\n",
    "states = dataset[:,[0]]\n",
    "\n",
    "# get feature names\n",
    "new_df = df.drop('State', axis=1)\n",
    "new_df = new_df.drop('Voter Turnout 2018', axis=1)\n",
    "feature_names = list(new_df.columns.values)\n",
    "\n"
   ]
  },
  {
   "cell_type": "markdown",
   "metadata": {},
   "source": [
    "## K-Means\n",
    "\n",
    "K-means is an unsupervised learning clustering algorithm that partitions data into k clusters by iteratively updating cluster centers so as to minimize the distance from datapoints to cluster centers. We use k-means to cluster states based on election policy to identify which states are similar. We then analyze the clustering algorithm to determine the goodness of clustering."
   ]
  },
  {
   "cell_type": "code",
   "execution_count": 7,
   "metadata": {},
   "outputs": [
    {
     "data": {
      "image/png": "[encoded data removed]",
      "text/plain": [
       "<Figure size 432x288 with 1 Axes>"
      ]
     },
     "metadata": {
      "needs_background": "light"
     },
     "output_type": "display_data"
    }
   ],
   "source": [
    "from sklearn.cluster import KMeans\n",
    "from sklearn import cluster\n",
    "\n",
    "# dimensionality reduction using feature clustering\n",
    "agglo = cluster.FeatureAgglomeration(n_clusters=2)\n",
    "features = agglo.fit_transform(X)\n",
    "\n",
    "score = []\n",
    "\n",
    "K = 20\n",
    "\n",
    "# perform k-means for values of k between 1,20\n",
    "for i in range(1,K):\n",
    "    model = KMeans(i).fit(features)\n",
    "    cluster_labels = model.fit_predict(features)\n",
    "    score.append(model.inertia_)\n",
    "\n",
    "# plot error score\n",
    "plt.plot(score, 'bx-') \n",
    "plt.xlabel('K') \n",
    "plt.ylabel('Score') \n",
    "plt.title('Elbow Method') \n",
    "plt.show() "
   ]
  },
  {
   "cell_type": "markdown",
   "metadata": {},
   "source": [
    "Using the elbow method, the ideal value of K = 3."
   ]
  },
  {
   "cell_type": "code",
   "execution_count": null,
   "metadata": {},
   "outputs": [
    {
     "name": "stdout",
     "output_type": "stream",
     "text": [
      "\n",
      "Mean voter turnout = 0.517\n",
      "\n",
      "Cluster 0: \n",
      " ['Alaska' 'Arkansas' 'Colorado' 'Connecticut' 'Idaho' 'Iowa' 'Kansas'\n",
      " 'Louisiana' 'Maine' 'Massachusetts' 'Michigan' 'Missouri' 'New Hampshire'\n",
      " 'North Carolina' 'North Dakota' 'Ohio' 'Oklahoma' 'Rhode Island'\n",
      " 'South Dakota' 'Tennessee' 'Texas' 'Vermont' 'West Virginia' 'Wisconsin'\n",
      " 'Wyoming'] \n",
      "Mean voter turnout = 0.520\n",
      "\n",
      "Cluster 1: \n",
      " ['Arizona' 'California' 'Florida' 'Georgia' 'Hawaii' 'Illinois' 'Indiana'\n",
      " 'Maryland' 'Nevada' 'New Mexico' 'Utah'] \n",
      "Mean voter turnout = 0.498\n",
      "\n",
      "Cluster 2: \n",
      " ['Alabama' 'Delaware' 'Kentucky' 'Minnesota' 'Mississippi' 'Montana'\n",
      " 'Nebraska' 'New Jersey' 'New York' 'Oregon' 'Pennsylvania'\n",
      " 'South Carolina' 'Virginia' 'Washington'] \n",
      "Mean voter turnout = 0.528\n",
      "\n",
      "\n",
      "Silhouette Score of k-means clustering = 0.545\n"
     ]
    }
   ],
   "source": [
    "from sklearn.cluster import KMeans\n",
    "from sklearn import cluster\n",
    "from sklearn.preprocessing import StandardScaler\n",
    "from sklearn import metrics\n",
    "\n",
    "# dimensionality reduction using feature clustering\n",
    "agglo = cluster.FeatureAgglomeration(n_clusters=2)\n",
    "features = agglo.fit_transform(X)\n",
    "\n",
    "# cluster data using kmeans\n",
    "K = 3\n",
    "model = KMeans(n_clusters=K).fit(features)\n",
    "\n",
    "print(\"\\nMean voter turnout = {:2.3f}\".format(np.mean(Y)))\n",
    "\n",
    "# print state->cluster mapping\n",
    "clusters = model.labels_.reshape(50,1)\n",
    "states_clusters = np.hstack((clusters, states, Y))\n",
    "for i in range(0,K):\n",
    "    cluster = states_clusters[states_clusters[:,0] == i]\n",
    "    print(\"\\nCluster \" + str(i) + \": \\n\", cluster[:,1], \"\\nMean voter turnout = {:2.3f}\".format(np.mean(cluster[:,2])))\n",
    "    \n",
    "# compute silhouette score\n",
    "print(\"\\n\\nSilhouette Score of k-means clustering = {:2.3f}\".format(metrics.silhouette_score(features, model.labels_, metric='euclidean')))\n",
    "\n",
    "# plot graph\n",
    "import plotly.graph_objects as go\n",
    "import plotly.figure_factory as ff\n",
    "from plotly.offline import plot\n",
    "\n",
    "df = pd.read_csv('https://raw.githubusercontent.com/plotly/datasets/master/2011_us_ag_exports.csv')\n",
    "\n",
    "fig = go.Figure(data=go.Choropleth(\n",
    "    locations=df['code'],\n",
    "    text=df['state'],\n",
    "    z=clusters.ravel(), # Data to be color-coded\n",
    "    locationmode='USA-states',\n",
    "    colorscale='Greens',\n",
    "))\n",
    "\n",
    "fig.update_layout(\n",
    "    title_text='K-Means 3-Clustering based on State Election Policy',\n",
    "    geo_scope='usa'\n",
    ")\n",
    "\n",
    "plot(fig)\n",
    "\n",
    "plt.title(\"K-Means clustering of States based on election policy\")\n",
    "plt.xlabel('Agg feature 1')\n",
    "plt.ylabel('Agg feature 2')\n",
    "p = plt.scatter(features[:, 0], features[:, 1], c=model.labels_.astype(float))\n",
    "plt.colorbar(p)\n",
    "plt.show()"
   ]
  },
  {
   "cell_type": "markdown",
   "metadata": {},
   "source": [
    "### Feature Extraction"
   ]
  },
  {
   "cell_type": "code",
   "execution_count": null,
   "metadata": {},
   "outputs": [],
   "source": [
    "from sklearn.feature_selection import SelectKBest\n",
    "from sklearn.feature_selection import chi2\n",
    "\n",
    "# convert Y to classes based on threshold\n",
    "threshold = np.mean(Y)\n",
    "labels = Y.copy()\n",
    "labels[labels < threshold] = 0 # low turnout\n",
    "labels[labels >= threshold] = 1 # high turnout\n",
    "\n",
    "# Visualize feature importance\n",
    "K = 5\n",
    "explode = np.zeros(K)\n",
    "explode[:K] = 0.1\n",
    "model = SelectKBest(chi2, k=K)\n",
    "model.fit_transform(X, labels)\n",
    "indices = np.argsort(model.scores_)[::-1]\n",
    "top_features = []\n",
    "for i in indices:\n",
    "    top_features.append(feature_names[i])\n",
    "\n",
    "fig = plt.figure()\n",
    "fig.clf()\n",
    "ax = fig.add_subplot(111)\n",
    "plt.title(\"Top 5 Election Policies that impact Voter Turnout\")\n",
    "plt.pie(model.scores_[indices[range(K)]], labels=top_features[:K], autopct='%1.1f%%', shadow=True, startangle=90, explode=explode)\n",
    "plt.show()"
   ]
  },
  {
   "cell_type": "markdown",
   "metadata": {},
   "source": [
    "### Conclusion"
   ]
  },
  {
   "cell_type": "code",
   "execution_count": null,
   "metadata": {},
   "outputs": [],
   "source": []
  }
 ],
 "metadata": {
  "kernelspec": {
   "display_name": "Python 3",
   "language": "python",
   "name": "python3"
  },
  "language_info": {
   "codemirror_mode": {
    "name": "ipython",
    "version": 3
   },
   "file_extension": ".py",
   "mimetype": "text/x-python",
   "name": "python",
   "nbconvert_exporter": "python",
   "pygments_lexer": "ipython3",
   "version": "3.7.4"
  }
 },
 "nbformat": 4,
 "nbformat_minor": 2
}
